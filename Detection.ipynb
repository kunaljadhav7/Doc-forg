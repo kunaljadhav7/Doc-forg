{
 "cells": [
  {
   "cell_type": "markdown",
   "metadata": {},
   "source": [
    "# WELCOME TO OUR WORKING LABORATORY\n",
    "\n",
    "This is a place where we train and export model and test new algorithm of combining boxes in our website"
   ]
  },
  {
   "cell_type": "markdown",
   "metadata": {},
   "source": [
    "## First let us look at the codes used for training, loading and exporting the model"
   ]
  },
  {
   "cell_type": "code",
   "execution_count": 1,
   "metadata": {},
   "outputs": [],
   "source": [
    "# Import YOLO from ultralytics for finetuning\n",
    "from ultralytics import YOLO\n",
    "# os is used for passing directory path easily\n",
    "import os\n",
    "# pickle is used for exporting the model\n",
    "import pickle"
   ]
  },
  {
   "cell_type": "code",
   "execution_count": 2,
   "metadata": {},
   "outputs": [],
   "source": [
    "# Loading the pre-trained yolov8m model\n",
    "model = YOLO(\"yolov8m.pt\")"
   ]
  },
  {
   "cell_type": "code",
   "execution_count": null,
   "metadata": {
    "scrolled": true
   },
   "outputs": [],
   "source": [
    "# Pass only the path to data.yaml file and this contains path to train and validation splits\n",
    "results = model.train(data = os.path.join(\"Dataset\", \"Dataset_6\", \"data.yaml\"), epochs = 450)"
   ]
  },
  {
   "cell_type": "code",
   "execution_count": null,
   "metadata": {
    "scrolled": true
   },
   "outputs": [],
   "source": [
    "# For validation of the model\n",
    "model.val()"
   ]
  },
  {
   "cell_type": "code",
   "execution_count": 5,
   "metadata": {},
   "outputs": [],
   "source": [
    "# Loading the model directly from weights\n",
    "model = YOLO(os.path.join(\"runs\", \"detect\", \"train29\", \"weights\", \"best.pt\"))"
   ]
  },
  {
   "cell_type": "code",
   "execution_count": null,
   "metadata": {},
   "outputs": [],
   "source": [
    "# The following is used if we want to resume the training of the model\n",
    "model.train(resume=True)"
   ]
  },
  {
   "cell_type": "code",
   "execution_count": 11,
   "metadata": {},
   "outputs": [],
   "source": [
    "# Pickle dump or exports the model in the .pkl format\n",
    "pickle.dump(model, open(\"OW_2.pkl\", \"wb\"))"
   ]
  },
  {
   "cell_type": "code",
   "execution_count": 2,
   "metadata": {},
   "outputs": [],
   "source": [
    "# The following code is used to load the model with pickle format\n",
    "model = pickle.load(open(\"OW_2.pkl\", \"rb\"))"
   ]
  },
  {
   "cell_type": "code",
   "execution_count": null,
   "metadata": {
    "scrolled": true
   },
   "outputs": [],
   "source": [
    "# printing the neural layers of model\n",
    "model"
   ]
  },
  {
   "cell_type": "markdown",
   "metadata": {},
   "source": [
    "# Now we will how the model return the result and how can use them"
   ]
  },
  {
   "cell_type": "code",
   "execution_count": null,
   "metadata": {},
   "outputs": [],
   "source": [
    "# model.predict is used to predict the detection.\n",
    "result = model.predict(source=os.path.join(\"Dataset_4\", \"valid\", \"images\", \"14-__page-0001_jpg.rf.1c47d3f0ddd6a0ddcb5cc349f1852a4b.jpg\"))"
   ]
  },
  {
   "cell_type": "code",
   "execution_count": 14,
   "metadata": {},
   "outputs": [
    {
     "data": {
      "text/plain": [
       "tensor([0.6766, 0.6617, 0.6278, 0.6254, 0.6128, 0.6069, 0.6065, 0.5376, 0.5250, 0.5235, 0.5082, 0.5000, 0.4830, 0.4732, 0.4650, 0.4568, 0.4470, 0.4281, 0.4092, 0.4081, 0.3960, 0.3951, 0.3876, 0.3825, 0.3750, 0.3389, 0.3335, 0.3323, 0.3317, 0.3194, 0.3084, 0.2956, 0.2952, 0.2927, 0.2720, 0.2584, 0.2507],\n",
       "       device='cuda:0')"
      ]
     },
     "execution_count": 14,
     "metadata": {},
     "output_type": "execute_result"
    }
   ],
   "source": [
    "# result[0].boxes.xyxy   # box with xyxy format, (N, 4)\n",
    "# result[0].boxes.xywh   # box with xywh format, (N, 4)\n",
    "# result[0].boxes.xyxyn  # box with xyxy format but normalized, (N, 4)\n",
    "# result[0].boxes.xywhn  # box with xywh format but normalized, (N, 4)\n",
    "result[0].boxes.conf   # confidence score, (N, 1)\n",
    "# result[0].boxes.cls    # cls, (N, 1)"
   ]
  },
  {
   "cell_type": "code",
   "execution_count": 122,
   "metadata": {},
   "outputs": [],
   "source": [
    "# importing opencv to read the images and creating bounding boxes\n",
    "import cv2\n",
    "# import matplotlib for showing graphs and images\n",
    "from matplotlib import pyplot as plt\n",
    "# Image is used to show and store the finalized images.\n",
    "from PIL import Image\n",
    "\n",
    "for r in result:\n",
    "    #im_array = r.plot()  # plot a BGR numpy array of predictions # Use this line only when directly showing the results from YOLO\n",
    "    im_array = img # Use this line when you have to show your tampered image\n",
    "    im = Image.fromarray(im_array[..., ::-1])  # RGB PIL image\n",
    "    im.show()  # show image\n",
    "    #im.save('results.jpg')  # save image"
   ]
  },
  {
   "cell_type": "code",
   "execution_count": 120,
   "metadata": {},
   "outputs": [],
   "source": [
    "# Using opencv to read the image\n",
    "img = cv2.imread(os.path.join(\"Dataset_4\", \"valid\", \"images\", \"14-__page-0001_jpg.rf.1c47d3f0ddd6a0ddcb5cc349f1852a4b.jpg\"))"
   ]
  },
  {
   "cell_type": "code",
   "execution_count": null,
   "metadata": {
    "scrolled": true
   },
   "outputs": [],
   "source": [
    "# for converting arrays to numpy\n",
    "import numpy as np\n",
    "\n",
    "boxes = result[0].boxes.cpu().numpy() # storing the coordinates of boxes\n",
    "# print(first)\n",
    "qu = {} # queue for traversing through coordinates\n",
    "final = [] # the final list we will obtain\n",
    "small = [] # saves coordinates of a continuous word\n",
    "conf = [] # saves the confidance score according to the values in final list\n",
    "visited = [0] * len(boxes) # keeping a track of visited boxes\n",
    "for i, box in enumerate(boxes):\n",
    "    if(box.conf[0] < 0.47):\n",
    "        continue\n",
    "    if(visited[i]):\n",
    "        continue\n",
    "    visited[i] = 1\n",
    "    r = box.xyxy[0]\n",
    "    prev = r\n",
    "    qu[i] = r\n",
    "    print(r)\n",
    "    small = []\n",
    "    con = box.conf[0]\n",
    "    small.append(r)\n",
    "    while qu:\n",
    "        index, val = list(qu.items())[0]\n",
    "        del qu[index]\n",
    "        visited[index] = 1\n",
    "        prev = val\n",
    "        print(val)\n",
    "        for j, b in enumerate(boxes):\n",
    "            # print(j)\n",
    "            if(b.conf[0] < 0.47): # HYPERPARAMETER for changing the minimum confidance score required\n",
    "                continue\n",
    "            \n",
    "            if(index == j):\n",
    "                continue\n",
    "            if(visited[j]):\n",
    "                continue\n",
    "\n",
    "            if( con < b.conf[0]):\n",
    "                con = b.conf[0]\n",
    "\n",
    "            p = b.xyxy[0]\n",
    "            dist = np.sqrt(np.square(p[0] - prev[0]) + np.square(p[1] - prev[1]))\n",
    "            print(dist)\n",
    "            if(dist < 9): # HYPERPARAMETER for changing the pixels threshold betweek two boxes\n",
    "                qu[j] = p\n",
    "                small.append(p)\n",
    "                # print(p)\n",
    "    \n",
    "        print(small)\n",
    "        print(con)\n",
    "    if(con):\n",
    "        conf.append(round(con, 2))\n",
    "    if(len(small)):\n",
    "        final.append(small)\n",
    "    "
   ]
  },
  {
   "cell_type": "code",
   "execution_count": null,
   "metadata": {
    "scrolled": true
   },
   "outputs": [],
   "source": [
    "# The following code stores the finalized boxe coordinates\n",
    "coord = []\n",
    "for lst in final:\n",
    "    min_x, min_y, max_x, max_y = 10000.0, 10000.0, -1.0, -1.0\n",
    "    for lt in lst:\n",
    "        if(lt[0] < min_x):\n",
    "            min_x = lt[0]\n",
    "            min_y = lt[1]\n",
    "        if(lt[2] > max_x):\n",
    "            max_x = lt[2]\n",
    "            max_y = lt[3]\n",
    "    coord.append([min_x, min_y, max_x, max_y])\n",
    "print(coord)"
   ]
  },
  {
   "cell_type": "code",
   "execution_count": 46,
   "metadata": {},
   "outputs": [],
   "source": [
    "# Removing duplicates if there are any\n",
    "dup = []\n",
    "for i, lst in enumerate(final):\n",
    "    if(i == 0):\n",
    "        continue\n",
    "    if(final[i-1] == final[i]):\n",
    "        dup.append(i)"
   ]
  },
  {
   "cell_type": "code",
   "execution_count": null,
   "metadata": {},
   "outputs": [],
   "source": [
    "# Creating bounding box and printing the confidence score over them\n",
    "for i, box in enumerate(coord):\n",
    "    r = [v.astype(int) for v in box]\n",
    "    print(r)                                               # print boxes\n",
    "    cv2.rectangle(img, r[:2], r[2:], (0, 0, 255), 1)\n",
    "    #img = cv2.rectangle(img, (r[0], r[1] - 5), (r[2], r[1]), (0, 0, 255), -1)\n",
    "    text = str(round(conf[i] * 100, 2))\n",
    "    print(text)\n",
    "    img = cv2.putText(img, text, (r[0], r[1]), cv2.FONT_HERSHEY_SIMPLEX, 0.23, (0, 0, 255), 1)"
   ]
  },
  {
   "cell_type": "code",
   "execution_count": 126,
   "metadata": {},
   "outputs": [
    {
     "data": {
      "text/plain": [
       "'68.0%'"
      ]
     },
     "execution_count": 126,
     "metadata": {},
     "output_type": "execute_result"
    }
   ],
   "source": [
    "# These line are required if we want to print confidence score in percentage\n",
    "text = str(0.68 * 100) + \"%\"\n",
    "text"
   ]
  },
  {
   "cell_type": "code",
   "execution_count": null,
   "metadata": {},
   "outputs": [],
   "source": []
  }
 ],
 "metadata": {
  "kernelspec": {
   "display_name": "Python 3 (ipykernel)",
   "language": "python",
   "name": "python3"
  },
  "language_info": {
   "codemirror_mode": {
    "name": "ipython",
    "version": 3
   },
   "file_extension": ".py",
   "mimetype": "text/x-python",
   "name": "python",
   "nbconvert_exporter": "python",
   "pygments_lexer": "ipython3",
   "version": "3.8.10"
  }
 },
 "nbformat": 4,
 "nbformat_minor": 4
}
